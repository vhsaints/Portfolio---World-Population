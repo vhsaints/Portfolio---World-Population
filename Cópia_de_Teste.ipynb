{
  "nbformat": 4,
  "nbformat_minor": 0,
  "metadata": {
    "colab": {
      "provenance": [],
      "authorship_tag": "ABX9TyPZNdqjvPx/l8CHTbZN4LJ+",
      "include_colab_link": true
    },
    "kernelspec": {
      "name": "ir",
      "display_name": "R"
    },
    "language_info": {
      "name": "R"
    }
  },
  "cells": [
    {
      "cell_type": "markdown",
      "metadata": {
        "id": "view-in-github",
        "colab_type": "text"
      },
      "source": [
        "<a href=\"https://colab.research.google.com/github/vhsaints/Portfolio-World-Population/blob/main/C%C3%B3pia_de_Teste.ipynb\" target=\"_parent\"><img src=\"https://colab.research.google.com/assets/colab-badge.svg\" alt=\"Open In Colab\"/></a>"
      ]
    },
    {
      "cell_type": "code",
      "execution_count": null,
      "metadata": {
        "colab": {
          "base_uri": "https://localhost:8080/"
        },
        "id": "jHBixZP_EDrs",
        "outputId": "10ba3d53-5a7d-4870-bd95-7e47b5abf864"
      },
      "outputs": [
        {
          "output_type": "stream",
          "name": "stderr",
          "text": [
            "Installing package into ‘/usr/local/lib/R/site-library’\n",
            "(as ‘lib’ is unspecified)\n",
            "\n"
          ]
        }
      ],
      "source": [
        "install.packages(\"wooldridge\")"
      ]
    },
    {
      "cell_type": "code",
      "source": [
        "library(wooldridge)"
      ],
      "metadata": {
        "id": "UFV2a4w1ETq1"
      },
      "execution_count": null,
      "outputs": []
    },
    {
      "cell_type": "code",
      "source": [
        "data(kielmc)"
      ],
      "metadata": {
        "id": "GcEDJaXJEW80"
      },
      "execution_count": null,
      "outputs": []
    },
    {
      "cell_type": "code",
      "source": [
        "lm(rprice~nearinc, data=kielmc, subset=(year==1981))"
      ],
      "metadata": {
        "colab": {
          "base_uri": "https://localhost:8080/",
          "height": 173
        },
        "id": "RQQU21ekFGdM",
        "outputId": "24a8bf5a-d714-4b52-a701-2f11fab3b89c"
      },
      "execution_count": null,
      "outputs": [
        {
          "output_type": "display_data",
          "data": {
            "text/plain": [
              "\n",
              "Call:\n",
              "lm(formula = rprice ~ nearinc, data = kielmc, subset = (year == \n",
              "    1981))\n",
              "\n",
              "Coefficients:\n",
              "(Intercept)      nearinc  \n",
              "     101308       -30688  \n"
            ]
          },
          "metadata": {}
        }
      ]
    },
    {
      "cell_type": "code",
      "source": [
        "summary(lm(rprice~nearinc, data=kielmc, subset=(year==1981)))"
      ],
      "metadata": {
        "colab": {
          "base_uri": "https://localhost:8080/",
          "height": 486
        },
        "id": "w5MuGtOgF2DK",
        "outputId": "ada9ab7e-796e-4503-a511-3a8eb00646e2"
      },
      "execution_count": null,
      "outputs": [
        {
          "output_type": "display_data",
          "data": {
            "text/plain": [
              "\n",
              "Call:\n",
              "lm(formula = rprice ~ nearinc, data = kielmc, subset = (year == \n",
              "    1981))\n",
              "\n",
              "Residuals:\n",
              "   Min     1Q Median     3Q    Max \n",
              "-60678 -19832  -2997  21139 136754 \n",
              "\n",
              "Coefficients:\n",
              "            Estimate Std. Error t value Pr(>|t|)    \n",
              "(Intercept)   101308       3093  32.754  < 2e-16 ***\n",
              "nearinc       -30688       5828  -5.266 5.14e-07 ***\n",
              "---\n",
              "Signif. codes:  0 ‘***’ 0.001 ‘**’ 0.01 ‘*’ 0.05 ‘.’ 0.1 ‘ ’ 1\n",
              "\n",
              "Residual standard error: 31240 on 140 degrees of freedom\n",
              "Multiple R-squared:  0.1653,\tAdjusted R-squared:  0.1594 \n",
              "F-statistic: 27.73 on 1 and 140 DF,  p-value: 5.139e-07\n"
            ]
          },
          "metadata": {}
        }
      ]
    },
    {
      "cell_type": "code",
      "source": [
        "lm(rprice~nearinc, data=kielmc, subset=(year==1978))"
      ],
      "metadata": {
        "colab": {
          "base_uri": "https://localhost:8080/",
          "height": 173
        },
        "id": "CIUGnNYyFSty",
        "outputId": "1a3b69ab-e731-4655-de79-05042123d70b"
      },
      "execution_count": null,
      "outputs": [
        {
          "output_type": "display_data",
          "data": {
            "text/plain": [
              "\n",
              "Call:\n",
              "lm(formula = rprice ~ nearinc, data = kielmc, subset = (year == \n",
              "    1978))\n",
              "\n",
              "Coefficients:\n",
              "(Intercept)      nearinc  \n",
              "      82517       -18824  \n"
            ]
          },
          "metadata": {}
        }
      ]
    },
    {
      "cell_type": "code",
      "source": [
        "summary(lm(rprice~nearinc, data=kielmc, subset=(year==1978)))"
      ],
      "metadata": {
        "colab": {
          "base_uri": "https://localhost:8080/",
          "height": 486
        },
        "id": "KO7YTvdaGA1y",
        "outputId": "92469461-3143-4601-ddcf-aa71ce2eda8e"
      },
      "execution_count": null,
      "outputs": [
        {
          "output_type": "display_data",
          "data": {
            "text/plain": [
              "\n",
              "Call:\n",
              "lm(formula = rprice ~ nearinc, data = kielmc, subset = (year == \n",
              "    1978))\n",
              "\n",
              "Residuals:\n",
              "   Min     1Q Median     3Q    Max \n",
              "-56517 -16605  -3193   8683 236307 \n",
              "\n",
              "Coefficients:\n",
              "            Estimate Std. Error t value Pr(>|t|)    \n",
              "(Intercept)    82517       2654  31.094  < 2e-16 ***\n",
              "nearinc       -18824       4745  -3.968 0.000105 ***\n",
              "---\n",
              "Signif. codes:  0 ‘***’ 0.001 ‘**’ 0.01 ‘*’ 0.05 ‘.’ 0.1 ‘ ’ 1\n",
              "\n",
              "Residual standard error: 29430 on 177 degrees of freedom\n",
              "Multiple R-squared:  0.08167,\tAdjusted R-squared:  0.07648 \n",
              "F-statistic: 15.74 on 1 and 177 DF,  p-value: 0.0001054\n"
            ]
          },
          "metadata": {}
        }
      ]
    },
    {
      "cell_type": "markdown",
      "source": [
        "Redução média no preço dos imóveis"
      ],
      "metadata": {
        "id": "STsPwkkBHIvD"
      }
    },
    {
      "cell_type": "code",
      "source": [
        "redução_média = -30688 - (-18824 )\n",
        "redução_média"
      ],
      "metadata": {
        "colab": {
          "base_uri": "https://localhost:8080/",
          "height": 34
        },
        "id": "uqOcvwZkE64Y",
        "outputId": "cf088238-b447-42b5-8119-d1092a97e3d0"
      },
      "execution_count": null,
      "outputs": [
        {
          "output_type": "display_data",
          "data": {
            "text/html": [
              "-11864"
            ],
            "text/markdown": "-11864",
            "text/latex": "-11864",
            "text/plain": [
              "[1] -11864"
            ]
          },
          "metadata": {}
        }
      ]
    },
    {
      "cell_type": "code",
      "source": [
        "lm(rprice~nearinc, data=kielmc, subset=(year==1978))"
      ],
      "metadata": {
        "id": "od4d_8uAHFyJ",
        "colab": {
          "base_uri": "https://localhost:8080/",
          "height": 173
        },
        "outputId": "313a6fd8-368a-445c-ff00-bf1d83751d9f"
      },
      "execution_count": null,
      "outputs": [
        {
          "output_type": "display_data",
          "data": {
            "text/plain": [
              "\n",
              "Call:\n",
              "lm(formula = rprice ~ nearinc, data = kielmc, subset = (year == \n",
              "    1978))\n",
              "\n",
              "Coefficients:\n",
              "(Intercept)      nearinc  \n",
              "      82517       -18824  \n"
            ]
          },
          "metadata": {}
        }
      ]
    },
    {
      "cell_type": "code",
      "source": [
        "install.packages(\"lmtest\")"
      ],
      "metadata": {
        "colab": {
          "base_uri": "https://localhost:8080/"
        },
        "id": "6U1Ad7vfHXff",
        "outputId": "a2e46bc0-7617-4e86-b319-7d12fdc00b41"
      },
      "execution_count": null,
      "outputs": [
        {
          "output_type": "stream",
          "name": "stderr",
          "text": [
            "Installing package into ‘/usr/local/lib/R/site-library’\n",
            "(as ‘lib’ is unspecified)\n",
            "\n",
            "also installing the dependency ‘zoo’\n",
            "\n",
            "\n"
          ]
        }
      ]
    },
    {
      "cell_type": "code",
      "source": [
        "library(lmtest)"
      ],
      "metadata": {
        "id": "SlNsELucHWoP"
      },
      "execution_count": null,
      "outputs": []
    },
    {
      "cell_type": "code",
      "source": [
        "lm(rprice~nearinc*y81, data=kielmc)"
      ],
      "metadata": {
        "id": "lJw0PqWYHkQ3"
      },
      "execution_count": null,
      "outputs": []
    },
    {
      "cell_type": "code",
      "source": [
        "summary(lm(rprice~nearinc*y81, data=kielmc))"
      ],
      "metadata": {
        "id": "kH6ILE5-HuHv"
      },
      "execution_count": null,
      "outputs": []
    },
    {
      "cell_type": "code",
      "source": [
        "head(kielmc)"
      ],
      "metadata": {
        "id": "m9GMULbcJA0N",
        "colab": {
          "base_uri": "https://localhost:8080/",
          "height": 306
        },
        "outputId": "4f18bdca-02cc-43a4-f3ac-4790c07dca1b"
      },
      "execution_count": null,
      "outputs": [
        {
          "output_type": "display_data",
          "data": {
            "text/html": [
              "<table class=\"dataframe\">\n",
              "<caption>A data.frame: 6 × 25</caption>\n",
              "<thead>\n",
              "\t<tr><th></th><th scope=col>year</th><th scope=col>age</th><th scope=col>agesq</th><th scope=col>nbh</th><th scope=col>cbd</th><th scope=col>intst</th><th scope=col>lintst</th><th scope=col>price</th><th scope=col>rooms</th><th scope=col>area</th><th scope=col>⋯</th><th scope=col>lprice</th><th scope=col>y81</th><th scope=col>larea</th><th scope=col>lland</th><th scope=col>y81ldist</th><th scope=col>lintstsq</th><th scope=col>nearinc</th><th scope=col>y81nrinc</th><th scope=col>rprice</th><th scope=col>lrprice</th></tr>\n",
              "\t<tr><th></th><th scope=col>&lt;int&gt;</th><th scope=col>&lt;int&gt;</th><th scope=col>&lt;dbl&gt;</th><th scope=col>&lt;int&gt;</th><th scope=col>&lt;dbl&gt;</th><th scope=col>&lt;dbl&gt;</th><th scope=col>&lt;dbl&gt;</th><th scope=col>&lt;dbl&gt;</th><th scope=col>&lt;int&gt;</th><th scope=col>&lt;int&gt;</th><th scope=col>⋯</th><th scope=col>&lt;dbl&gt;</th><th scope=col>&lt;int&gt;</th><th scope=col>&lt;dbl&gt;</th><th scope=col>&lt;dbl&gt;</th><th scope=col>&lt;dbl&gt;</th><th scope=col>&lt;dbl&gt;</th><th scope=col>&lt;int&gt;</th><th scope=col>&lt;int&gt;</th><th scope=col>&lt;dbl&gt;</th><th scope=col>&lt;dbl&gt;</th></tr>\n",
              "</thead>\n",
              "<tbody>\n",
              "\t<tr><th scope=row>1</th><td>1978</td><td>48</td><td>2304</td><td>4</td><td>3000</td><td>1000</td><td>6.9078</td><td>60000</td><td>7</td><td>1660</td><td>⋯</td><td>11.00210</td><td>0</td><td>7.414573</td><td>8.429017</td><td>0</td><td>47.71770</td><td>1</td><td>0</td><td>60000</td><td>11.00210</td></tr>\n",
              "\t<tr><th scope=row>2</th><td>1978</td><td>83</td><td>6889</td><td>4</td><td>4000</td><td>1000</td><td>6.9078</td><td>40000</td><td>6</td><td>2612</td><td>⋯</td><td>10.59663</td><td>0</td><td>7.867871</td><td>9.032409</td><td>0</td><td>47.71770</td><td>1</td><td>0</td><td>40000</td><td>10.59663</td></tr>\n",
              "\t<tr><th scope=row>3</th><td>1978</td><td>58</td><td>3364</td><td>4</td><td>4000</td><td>1000</td><td>6.9078</td><td>34000</td><td>6</td><td>1144</td><td>⋯</td><td>10.43412</td><td>0</td><td>7.042286</td><td>8.517193</td><td>0</td><td>47.71770</td><td>1</td><td>0</td><td>34000</td><td>10.43412</td></tr>\n",
              "\t<tr><th scope=row>4</th><td>1978</td><td>11</td><td> 121</td><td>4</td><td>4000</td><td>1000</td><td>6.9078</td><td>63900</td><td>5</td><td>1136</td><td>⋯</td><td>11.06507</td><td>0</td><td>7.035269</td><td>9.210340</td><td>0</td><td>47.71770</td><td>1</td><td>0</td><td>63900</td><td>11.06507</td></tr>\n",
              "\t<tr><th scope=row>5</th><td>1978</td><td>48</td><td>2304</td><td>4</td><td>4000</td><td>2000</td><td>7.6009</td><td>44000</td><td>5</td><td>1868</td><td>⋯</td><td>10.69195</td><td>0</td><td>7.532624</td><td>9.210340</td><td>0</td><td>57.77368</td><td>1</td><td>0</td><td>44000</td><td>10.69195</td></tr>\n",
              "\t<tr><th scope=row>6</th><td>1978</td><td>78</td><td>6084</td><td>4</td><td>3000</td><td>2000</td><td>7.6009</td><td>46000</td><td>6</td><td>1780</td><td>⋯</td><td>10.73640</td><td>0</td><td>7.484369</td><td>9.159047</td><td>0</td><td>57.77368</td><td>1</td><td>0</td><td>46000</td><td>10.73640</td></tr>\n",
              "</tbody>\n",
              "</table>\n"
            ],
            "text/markdown": "\nA data.frame: 6 × 25\n\n| <!--/--> | year &lt;int&gt; | age &lt;int&gt; | agesq &lt;dbl&gt; | nbh &lt;int&gt; | cbd &lt;dbl&gt; | intst &lt;dbl&gt; | lintst &lt;dbl&gt; | price &lt;dbl&gt; | rooms &lt;int&gt; | area &lt;int&gt; | ⋯ ⋯ | lprice &lt;dbl&gt; | y81 &lt;int&gt; | larea &lt;dbl&gt; | lland &lt;dbl&gt; | y81ldist &lt;dbl&gt; | lintstsq &lt;dbl&gt; | nearinc &lt;int&gt; | y81nrinc &lt;int&gt; | rprice &lt;dbl&gt; | lrprice &lt;dbl&gt; |\n|---|---|---|---|---|---|---|---|---|---|---|---|---|---|---|---|---|---|---|---|---|---|\n| 1 | 1978 | 48 | 2304 | 4 | 3000 | 1000 | 6.9078 | 60000 | 7 | 1660 | ⋯ | 11.00210 | 0 | 7.414573 | 8.429017 | 0 | 47.71770 | 1 | 0 | 60000 | 11.00210 |\n| 2 | 1978 | 83 | 6889 | 4 | 4000 | 1000 | 6.9078 | 40000 | 6 | 2612 | ⋯ | 10.59663 | 0 | 7.867871 | 9.032409 | 0 | 47.71770 | 1 | 0 | 40000 | 10.59663 |\n| 3 | 1978 | 58 | 3364 | 4 | 4000 | 1000 | 6.9078 | 34000 | 6 | 1144 | ⋯ | 10.43412 | 0 | 7.042286 | 8.517193 | 0 | 47.71770 | 1 | 0 | 34000 | 10.43412 |\n| 4 | 1978 | 11 |  121 | 4 | 4000 | 1000 | 6.9078 | 63900 | 5 | 1136 | ⋯ | 11.06507 | 0 | 7.035269 | 9.210340 | 0 | 47.71770 | 1 | 0 | 63900 | 11.06507 |\n| 5 | 1978 | 48 | 2304 | 4 | 4000 | 2000 | 7.6009 | 44000 | 5 | 1868 | ⋯ | 10.69195 | 0 | 7.532624 | 9.210340 | 0 | 57.77368 | 1 | 0 | 44000 | 10.69195 |\n| 6 | 1978 | 78 | 6084 | 4 | 3000 | 2000 | 7.6009 | 46000 | 6 | 1780 | ⋯ | 10.73640 | 0 | 7.484369 | 9.159047 | 0 | 57.77368 | 1 | 0 | 46000 | 10.73640 |\n\n",
            "text/latex": "A data.frame: 6 × 25\n\\begin{tabular}{r|lllllllllllllllllllll}\n  & year & age & agesq & nbh & cbd & intst & lintst & price & rooms & area & ⋯ & lprice & y81 & larea & lland & y81ldist & lintstsq & nearinc & y81nrinc & rprice & lrprice\\\\\n  & <int> & <int> & <dbl> & <int> & <dbl> & <dbl> & <dbl> & <dbl> & <int> & <int> & ⋯ & <dbl> & <int> & <dbl> & <dbl> & <dbl> & <dbl> & <int> & <int> & <dbl> & <dbl>\\\\\n\\hline\n\t1 & 1978 & 48 & 2304 & 4 & 3000 & 1000 & 6.9078 & 60000 & 7 & 1660 & ⋯ & 11.00210 & 0 & 7.414573 & 8.429017 & 0 & 47.71770 & 1 & 0 & 60000 & 11.00210\\\\\n\t2 & 1978 & 83 & 6889 & 4 & 4000 & 1000 & 6.9078 & 40000 & 6 & 2612 & ⋯ & 10.59663 & 0 & 7.867871 & 9.032409 & 0 & 47.71770 & 1 & 0 & 40000 & 10.59663\\\\\n\t3 & 1978 & 58 & 3364 & 4 & 4000 & 1000 & 6.9078 & 34000 & 6 & 1144 & ⋯ & 10.43412 & 0 & 7.042286 & 8.517193 & 0 & 47.71770 & 1 & 0 & 34000 & 10.43412\\\\\n\t4 & 1978 & 11 &  121 & 4 & 4000 & 1000 & 6.9078 & 63900 & 5 & 1136 & ⋯ & 11.06507 & 0 & 7.035269 & 9.210340 & 0 & 47.71770 & 1 & 0 & 63900 & 11.06507\\\\\n\t5 & 1978 & 48 & 2304 & 4 & 4000 & 2000 & 7.6009 & 44000 & 5 & 1868 & ⋯ & 10.69195 & 0 & 7.532624 & 9.210340 & 0 & 57.77368 & 1 & 0 & 44000 & 10.69195\\\\\n\t6 & 1978 & 78 & 6084 & 4 & 3000 & 2000 & 7.6009 & 46000 & 6 & 1780 & ⋯ & 10.73640 & 0 & 7.484369 & 9.159047 & 0 & 57.77368 & 1 & 0 & 46000 & 10.73640\\\\\n\\end{tabular}\n",
            "text/plain": [
              "  year age agesq nbh cbd  intst lintst price rooms area ⋯ lprice   y81 larea   \n",
              "1 1978 48  2304  4   3000 1000  6.9078 60000 7     1660 ⋯ 11.00210 0   7.414573\n",
              "2 1978 83  6889  4   4000 1000  6.9078 40000 6     2612 ⋯ 10.59663 0   7.867871\n",
              "3 1978 58  3364  4   4000 1000  6.9078 34000 6     1144 ⋯ 10.43412 0   7.042286\n",
              "4 1978 11   121  4   4000 1000  6.9078 63900 5     1136 ⋯ 11.06507 0   7.035269\n",
              "5 1978 48  2304  4   4000 2000  7.6009 44000 5     1868 ⋯ 10.69195 0   7.532624\n",
              "6 1978 78  6084  4   3000 2000  7.6009 46000 6     1780 ⋯ 10.73640 0   7.484369\n",
              "  lland    y81ldist lintstsq nearinc y81nrinc rprice lrprice \n",
              "1 8.429017 0        47.71770 1       0        60000  11.00210\n",
              "2 9.032409 0        47.71770 1       0        40000  10.59663\n",
              "3 8.517193 0        47.71770 1       0        34000  10.43412\n",
              "4 9.210340 0        47.71770 1       0        63900  11.06507\n",
              "5 9.210340 0        57.77368 1       0        44000  10.69195\n",
              "6 9.159047 0        57.77368 1       0        46000  10.73640"
            ]
          },
          "metadata": {}
        }
      ]
    },
    {
      "cell_type": "code",
      "source": [
        "lm(rprice~nearinc*y81 + age + agesq, data=kielmc)"
      ],
      "metadata": {
        "id": "Q2P5mj5FI-2U",
        "colab": {
          "base_uri": "https://localhost:8080/",
          "height": 138
        },
        "outputId": "c96cfc26-7447-4cbb-beda-3d8feccaacda"
      },
      "execution_count": null,
      "outputs": [
        {
          "output_type": "display_data",
          "data": {
            "text/plain": [
              "\n",
              "Call:\n",
              "lm(formula = rprice ~ nearinc * y81 + age + agesq, data = kielmc)\n",
              "\n",
              "Coefficients:\n",
              "(Intercept)      nearinc          y81          age        agesq  nearinc:y81  \n",
              "  89116.535     9397.936    21321.042    -1494.424        8.691   -21920.270  \n"
            ]
          },
          "metadata": {}
        }
      ]
    },
    {
      "cell_type": "code",
      "source": [
        "summary(lm(rprice~nearinc*y81 + age + agesq, data=kielmc))"
      ],
      "metadata": {
        "id": "xfnLaXoCJJB1",
        "colab": {
          "base_uri": "https://localhost:8080/",
          "height": 1000
        },
        "outputId": "0ec0d8d2-bd27-42f2-f470-b6471051d3a1"
      },
      "execution_count": null,
      "outputs": [
        {
          "output_type": "display_data",
          "data": {
            "text/plain": [
              "\n",
              "Call:\n",
              "lm(formula = rprice ~ nearinc * y81 + age + agesq, data = kielmc)\n",
              "\n",
              "Residuals:\n",
              "   Min     1Q Median     3Q    Max \n",
              "-79349 -14431  -1711  10069 201486 \n",
              "\n",
              "Coefficients:\n",
              "              Estimate Std. Error t value Pr(>|t|)    \n",
              "(Intercept)  8.912e+04  2.406e+03  37.039  < 2e-16 ***\n",
              "nearinc      9.398e+03  4.812e+03   1.953 0.051713 .  \n",
              "y81          2.132e+04  3.444e+03   6.191 1.86e-09 ***\n",
              "age         -1.494e+03  1.319e+02 -11.333  < 2e-16 ***\n",
              "agesq        8.691e+00  8.481e-01  10.248  < 2e-16 ***\n",
              "nearinc:y81 -2.192e+04  6.360e+03  -3.447 0.000644 ***\n",
              "---\n",
              "Signif. codes:  0 ‘***’ 0.001 ‘**’ 0.01 ‘*’ 0.05 ‘.’ 0.1 ‘ ’ 1\n",
              "\n",
              "Residual standard error: 25540 on 315 degrees of freedom\n",
              "Multiple R-squared:  0.4144,\tAdjusted R-squared:  0.4052 \n",
              "F-statistic: 44.59 on 5 and 315 DF,  p-value: < 2.2e-16\n"
            ]
          },
          "metadata": {}
        }
      ]
    },
    {
      "cell_type": "code",
      "source": [
        "summary(lm(rprice~nearinc*y81 + age + agesq + area + rooms , data=kielmc))"
      ],
      "metadata": {
        "id": "fI4ROYprj-GT",
        "colab": {
          "base_uri": "https://localhost:8080/",
          "height": 1000
        },
        "outputId": "5bc30a77-cd80-4b2c-ed5d-11530fd58d0f"
      },
      "execution_count": null,
      "outputs": [
        {
          "output_type": "display_data",
          "data": {
            "text/plain": [
              "\n",
              "Call:\n",
              "lm(formula = rprice ~ nearinc * y81 + age + agesq + area + rooms, \n",
              "    data = kielmc)\n",
              "\n",
              "Residuals:\n",
              "   Min     1Q Median     3Q    Max \n",
              "-84912  -9191   -485   7537 166695 \n",
              "\n",
              "Coefficients:\n",
              "              Estimate Std. Error t value Pr(>|t|)    \n",
              "(Intercept)  1.048e+04  1.067e+04   0.983  0.32653    \n",
              "nearinc      7.494e+03  3.932e+03   1.906  0.05761 .  \n",
              "y81          1.350e+04  2.853e+03   4.732 3.37e-06 ***\n",
              "age         -8.536e+02  1.180e+02  -7.235 3.61e-12 ***\n",
              "agesq        4.065e+00  7.799e-01   5.212 3.40e-07 ***\n",
              "area         2.209e+01  2.067e+00  10.686  < 2e-16 ***\n",
              "rooms        4.577e+03  1.668e+03   2.744  0.00642 ** \n",
              "nearinc:y81 -1.527e+04  5.146e+03  -2.967  0.00324 ** \n",
              "---\n",
              "Signif. codes:  0 ‘***’ 0.001 ‘**’ 0.01 ‘*’ 0.05 ‘.’ 0.1 ‘ ’ 1\n",
              "\n",
              "Residual standard error: 20520 on 313 degrees of freedom\n",
              "Multiple R-squared:  0.6244,\tAdjusted R-squared:  0.616 \n",
              "F-statistic: 74.35 on 7 and 313 DF,  p-value: < 2.2e-16\n"
            ]
          },
          "metadata": {}
        }
      ]
    }
  ]
}